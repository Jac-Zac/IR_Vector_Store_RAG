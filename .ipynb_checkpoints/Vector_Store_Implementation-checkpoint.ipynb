{
 "cells": [
  {
   "cell_type": "markdown",
   "metadata": {},
   "source": [
    "# Vector Store Implementation\n",
    "\n",
    "This is an implementation of a vector store that can leverage embedding models to create our vectors"
   ]
  },
  {
   "cell_type": "markdown",
   "metadata": {},
   "source": [
    "### Imports\n",
    "\n",
    "- Numpy\n",
    "- Pands\n",
    "\n",
    "##### Using files from:\n",
    "\n",
    "http://ir.dcs.gla.ac.uk/resources/test_collections/time/"
   ]
  },
  {
   "cell_type": "code",
   "execution_count": 5,
   "metadata": {
    "tags": []
   },
   "outputs": [
    {
     "ename": "ModuleNotFoundError",
     "evalue": "No module named 'numpy'",
     "output_type": "error",
     "traceback": [
      "\u001b[0;31m---------------------------------------------------------------------------\u001b[0m",
      "\u001b[0;31mModuleNotFoundError\u001b[0m                       Traceback (most recent call last)",
      "Cell \u001b[0;32mIn[5], line 1\u001b[0m\n\u001b[0;32m----> 1\u001b[0m \u001b[38;5;28;01mimport\u001b[39;00m \u001b[38;5;21;01mnumpy\u001b[39;00m \u001b[38;5;28;01mas\u001b[39;00m \u001b[38;5;21;01mnp\u001b[39;00m\n\u001b[1;32m      2\u001b[0m \u001b[38;5;28;01mimport\u001b[39;00m \u001b[38;5;21;01mpandas\u001b[39;00m \u001b[38;5;28;01mas\u001b[39;00m \u001b[38;5;21;01mpd\u001b[39;00m\n",
      "\u001b[0;31mModuleNotFoundError\u001b[0m: No module named 'numpy'"
     ]
    }
   ],
   "source": [
    "import numpy as np\n",
    "import pandas as pd"
   ]
  },
  {
   "cell_type": "markdown",
   "metadata": {},
   "source": [
    "### Vector DB class"
   ]
  },
  {
   "cell_type": "code",
   "execution_count": 7,
   "metadata": {},
   "outputs": [],
   "source": [
    "class VectorStore:\n",
    "    def __init__(self, vector_dimension = None, metric=\"cosine\"):\n",
    "\n",
    "        if vector_dimension is None:\n",
    "            print(\"You should pass the vector size\")\n",
    "            \n",
    "        # Vector dimension \n",
    "        self.vector_dimension = vector_dimension\n",
    "        # Dictionary to store the vectors\n",
    "        self.stored_vectors = {}\n",
    "        # A dictionary for indexing structure for retrieval\n",
    "        self.similarity_index = {}\n",
    "\n",
    "\n",
    "    def create_vector_store(new_sentence_vectors_1, persist=True):\n",
    "        pass\n",
    "\n",
    "        \n",
    "    def add_vector(self, vector_id, vector) -> None:\n",
    "        \"\"\"\n",
    "        Add a vector to the vector Database\n",
    "\n",
    "        Args:\n",
    "            vector_id (str or int): A unique id for the vector\n",
    "            vector (numpy.ndarray): The vector to be stored\n",
    "        \"\"\"\n",
    "        # Normalize the vector\n",
    "        vector = vector / np.linalg.norm(vector)\n",
    "        self.stored_vectors[vector_id] = vector\n",
    "        self.update_index(vector_id, vector)\n",
    "\n",
    "    def get_vector(self, vector_id) -> np.ndarray:\n",
    "        \"\"\"\n",
    "        Get a vector from the vector DB\n",
    "\n",
    "        Args:\n",
    "            vector_id (str or int): The id of the vector to retrieve\n",
    "\n",
    "        Returns:\n",
    "            The vector with the given id, or None if it doesn't exist\n",
    "        \"\"\"\n",
    "        return self.stored_vectors.get(vector_id)\n",
    "\n",
    "    def _update_index(self, vector_id, vector) -> None:\n",
    "        \"\"\"\n",
    "        Update the indexing structure for the vector DB\n",
    "        \"\"\"\n",
    "        for existing_id, existing_vector in self.stored_vectors.items():\n",
    "            # Compute the dot product of the vectors\n",
    "            similarity = np.dot(vector, existing_vector)\n",
    "            if existing_id not in self.similarity_index:\n",
    "                self.similarity_index[existing_id] = {}\n",
    "            \n",
    "            self.similarity_index[existing_id][vector_id] = similarity\n",
    "\n",
    "    def get_similar_vectors(self, query_vector, num_results=5) -> list:\n",
    "        \"\"\"\n",
    "        Find similar vectors to the query vector\n",
    "\n",
    "        Args:\n",
    "            query_vector (numpy.ndarray): The query vector\n",
    "            num_results (int): The number of similar vectors to return\n",
    "\n",
    "        Returns:\n",
    "            A list of tuples, each containing a vector id and its similarity to the query vector\n",
    "        \"\"\"\n",
    "        result = []\n",
    "        for vector_id, vector in self.stored_vectors.items():\n",
    "            similarity = self._compute_similarity(query_vector, vector)\n",
    "            result.append((vector_id, similarity))\n",
    "            \n",
    "        # Sort by the similarity in descending order\n",
    "        result.sort(key=lambda x: x[1], reverse=True)\n",
    "        \n",
    "        # Return the num_results most similar ones\n",
    "        return result[:num_results]\n",
    "\n",
    "    def _compute_similarity(self, query_vector, vector) -> float:\n",
    "        \"\"\"\n",
    "        Compute the similarity between two vectors\n",
    "\n",
    "        Args:\n",
    "            query_vector (numpy.ndarray): The query vector\n",
    "            vector (numpy.ndarray): The vector to compare\n",
    "\n",
    "        Returns:\n",
    "            The dot product of the vectors, normalized by the product of their norms\n",
    "        \"\"\"\n",
    "        return np.dot(query_vector, vector) / (np.linalg.norm(query_vector) * np.linalg.norm(vector))"
   ]
  },
  {
   "cell_type": "markdown",
   "metadata": {},
   "source": [
    "### Example\n",
    "\n",
    "Example of the usage of a very simple vector store "
   ]
  },
  {
   "cell_type": "code",
   "execution_count": null,
   "metadata": {},
   "outputs": [],
   "source": [
    "# Create a VectorStore instance\n",
    "vector_store = VectorStore()\n",
    "\n",
    "# Define your sentences\n",
    "sentences = [\n",
    "    \"I eat mango\",\n",
    "    \"mango is my favorite fruit\",\n",
    "    \"mango, apple, oranges are fruits\",\n",
    "    \"fruits are good for health\",\n",
    "]\n",
    "\n",
    "# Tokenization and Vocabulary Creation\n",
    "vocabulary = set()\n",
    "for sentence in sentences:\n",
    "    tokens = sentence.lower().split()\n",
    "    vocabulary.update(tokens)\n",
    "\n",
    "# Assign unique indices to words in the vocabulary\n",
    "word_to_index = {word: i for i, word in enumerate(vocabulary)}\n",
    "\n",
    "# Vectorization\n",
    "sentence_vectors = {}\n",
    "for sentence in sentences:\n",
    "    tokens = sentence.lower().split()\n",
    "    vector = np.zeros(len(vocabulary))\n",
    "    for token in tokens:\n",
    "        vector[word_to_index[token]] += 1\n",
    "    sentence_vectors[sentence] = vector\n",
    "\n",
    "# Storing in VectorStore\n",
    "for sentence, vector in sentence_vectors.items():\n",
    "    vector_store.add_vector(sentence, vector)\n",
    "\n",
    "# Searching for Similarity\n",
    "query_sentence = \"Mango is the best fruit\"\n",
    "query_vector = np.zeros(len(vocabulary))\n",
    "query_tokens = query_sentence.lower().split()\n",
    "for token in query_tokens:\n",
    "    if token in word_to_index:\n",
    "        query_vector[word_to_index[token]] += 1\n",
    "\n",
    "similar_sentences = vector_store.find_similar_vectors(query_vector, num_results=2)\n",
    "\n",
    "# Print similar sentences\n",
    "print(\"Query Sentence:\", query_sentence)\n",
    "print(\"Similar Sentences:\")\n",
    "for sentence, similarity in similar_sentences:\n",
    "    print(f\"{sentence}: Similarity = {similarity:.4f}\")"
   ]
  },
  {
   "cell_type": "markdown",
   "metadata": {},
   "source": [
    "### Demon"
   ]
  },
  {
   "cell_type": "code",
   "execution_count": null,
   "metadata": {},
   "outputs": [],
   "source": [
    "import pandas as pd\n",
    "from sentence_transformers import SentenceTransformer\n",
    "\n",
    "# Load the Embedding Model\n",
    "model = SentenceTransformer(\"nomic-ai/nomic-embed-text-v1.5\", trust_remote_code=True)\n",
    "\n",
    "# Get data from csv\n",
    "data = pd.read_csv(\"data.csv\", delimiter=\";\")\n",
    "\n",
    "# Take 80% of the data to create the vector store, remaining 20% to update the vector store\n",
    "# To showcase the ability of updating the vector store\n",
    "data_1 = data.sample(frac=0.8, random_state=200)\n",
    "data_2 = data.drop(data_1.index)\n",
    "\n",
    "# Convert data to list\n",
    "data_1 = data_1[\"text\"].tolist()\n",
    "\n",
    "print(data_1)\n",
    "\n",
    "# Encode the data, have data and vector in dictionary, data keys, vector values\n",
    "vectors_1 = model.encode(data_1)\n",
    "\n",
    "# Get the vector dimension\n",
    "vector_dimension = len(vectors_1[0])\n",
    "\n",
    "# Create a dictionary with id and vectors\n",
    "new_sentence_vectors_1 = {data_1[i]: vectors_1[i] for i in range(len(data_1))}\n",
    "\n",
    "# Create a vector store. Select metric 'cosine' is the one I implemented (other possibility 'l1' or 'ip')\n",
    "vector_store = VectorStore(vector_dimension, metric=\"cosine\")\n",
    "\n",
    "# Create the vector store, set persist to True to save the vector store on disk\n",
    "# Implment persitence in the future\n",
    "vector_store.create_vector_store(new_sentence_vectors_1, persist=False)\n",
    "\n",
    "# Query the vector store\n",
    "query = \"I want to buy a car\"\n",
    "query_vector = model.encode(query)\n",
    "similar_vectors = vector_store.get_similar_vectors(query_vector, top_n=5)\n",
    "print(\"Similarity Vectors:\")\n",
    "for sentence, similarity_score in similar_vectors:\n",
    "    print(f\"- Sentence: {sentence}\")\n",
    "    print(f\"  Similarity Score: {similarity_score}\")\n",
    "    print()"
   ]
  },
  {
   "cell_type": "markdown",
   "metadata": {},
   "source": [
    "### Adding update of the vector store"
   ]
  },
  {
   "cell_type": "code",
   "execution_count": null,
   "metadata": {},
   "outputs": [],
   "source": [
    "# Update the vector store\n",
    "data_2 = data_2[\"text\"].tolist()\n",
    "vectors_2 = model.encode(data_2)\n",
    "new_sentence_vectors_2 = {data_2[i]: vectors_2[i] for i in range(len(data_2))}\n",
    "vector_store.update_vector_store(new_sentence_vectors_2)\n",
    "\n",
    "# Query the vector store\n",
    "query = \"I want to buy a cycle\"\n",
    "query_vector = model.encode(query)\n",
    "similar_vectors = vector_store.get_similar_vectors(query_vector, top_n=5)\n",
    "print(\"Similarity Vectors:\")\n",
    "for sentence, similarity_score in similar_vectors:\n",
    "    print(f\"- Sentence: {sentence}\")\n",
    "    print(f\"  Similarity Score: {similarity_score}\")\n",
    "    print()"
   ]
  },
  {
   "cell_type": "markdown",
   "metadata": {},
   "source": [
    "### Adding persistency"
   ]
  },
  {
   "cell_type": "code",
   "execution_count": null,
   "metadata": {},
   "outputs": [],
   "source": []
  }
 ],
 "metadata": {
  "kernelspec": {
   "display_name": "Python 3 (ipykernel)",
   "language": "python",
   "name": "python3"
  },
  "language_info": {
   "codemirror_mode": {
    "name": "ipython",
    "version": 3
   },
   "file_extension": ".py",
   "mimetype": "text/x-python",
   "name": "python",
   "nbconvert_exporter": "python",
   "pygments_lexer": "ipython3",
   "version": "3.12.2"
  },
  "vscode": {
   "interpreter": {
    "hash": "139e7c84632f54486abb9d698f2a5412a324e85ce1b1331ea63d3255168fb27f"
   }
  }
 },
 "nbformat": 4,
 "nbformat_minor": 4
}
